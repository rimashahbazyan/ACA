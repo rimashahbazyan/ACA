{
 "cells": [
  {
   "cell_type": "markdown",
   "metadata": {},
   "source": [
    "# Differentiation "
   ]
  },
  {
   "cell_type": "markdown",
   "metadata": {},
   "source": [
    "Since it easy to google every task please please please try to undestand what's going on. The \"just answer\" thing will be not counted, make sure to present derivation of your solution. It is absolutely OK if you found an answer on web then just exercise in $\\LaTeX$ copying it into here."
   ]
  },
  {
   "cell_type": "markdown",
   "metadata": {},
   "source": [
    "Useful links: \n",
    "[1](http://www.machinelearning.ru/wiki/images/2/2a/Matrix-Gauss.pdf)\n",
    "[2](http://www.atmos.washington.edu/~dennis/MatrixCalculus.pdf)"
   ]
  },
  {
   "cell_type": "markdown",
   "metadata": {},
   "source": [
    "## ex. 1"
   ]
  },
  {
   "cell_type": "markdown",
   "metadata": {},
   "source": [
    "$$  \n",
    "y = x^Tx,  \\quad x \\in \\mathbb{R}^N \n",
    "$$"
   ]
  },
  {
   "cell_type": "markdown",
   "metadata": {},
   "source": [
    "$$\n",
    "\\frac{\\partial y}{\\partial x} = \\frac{\\partial (x_{1}^{2} + x_{2}^{2} + ... + x_{n}^{2})}{\\partial x }= \\begin{bmatrix}\n",
    "2x_{1}\\\\ \n",
    "2x_{2}\\\\ \n",
    "...\\\\ \n",
    "2x_{n}\n",
    "\\end{bmatrix} = 2x\n",
    "$$"
   ]
  },
  {
   "cell_type": "markdown",
   "metadata": {},
   "source": [
    "## ex. 2"
   ]
  },
  {
   "cell_type": "markdown",
   "metadata": {},
   "source": [
    "$$ y = tr(AB) \\quad A,B \\in \\mathbb{R}^{N \\times N} $$ "
   ]
  },
  {
   "cell_type": "markdown",
   "metadata": {},
   "source": [
    "$$\n",
    "AB=\n",
    "\\begin{bmatrix}\n",
    "a_{11} & a_{12}\\\\ \n",
    "a_{21} & a_{22}\n",
    "\\end{bmatrix} \n",
    "\\cdot \n",
    "\\begin{bmatrix}\n",
    "b_{11} & b_{12}\\\\ \n",
    "b_{21} & b_{22}\n",
    "\\end{bmatrix} = \n",
    "\\begin{bmatrix}\n",
    "a_{11} b_{11} + a_{12} b_{21} & a_{11} b_{12} + a_{12} b_{22}\\\\ \n",
    "a_{21} b_{11} + a_{22} b_{21} & a_{21} b_{12} + a_{22} b_{22}\n",
    "\\end{bmatrix}\n",
    "$$"
   ]
  },
  {
   "cell_type": "markdown",
   "metadata": {},
   "source": [
    "$$ tr(AB) =  a_{11} b_{11} + a_{12} b_{21} + a_{21} b_{12} + a_{22} b_{22}$$"
   ]
  },
  {
   "cell_type": "markdown",
   "metadata": {},
   "source": [
    "$$\n",
    "\\frac{\\partial}{\\partial a_{ij}} y = b_{ji}\n",
    "$$\n",
    "\n",
    "$$\n",
    "\\frac{dy}{dA} =  \\begin{bmatrix}\n",
    "\\frac{\\partial}{\\partial a_{11}} y & \\frac{\\partial}{\\partial a_{12}} y\\\\ \n",
    "\\frac{\\partial}{\\partial a_{21}} y & \\frac{\\partial}{\\partial a_{22}} y\n",
    "\\end{bmatrix} = \\begin{bmatrix}\n",
    "b_{11} & b_{21}\\\\ \n",
    "b_{12} & b_{22}\n",
    "\\end{bmatrix} =\n",
    "B^{T}\n",
    "$$"
   ]
  },
  {
   "cell_type": "markdown",
   "metadata": {},
   "source": [
    "## ex. 3"
   ]
  },
  {
   "cell_type": "markdown",
   "metadata": {},
   "source": [
    "$$  \n",
    "y = x^TAc , \\quad A\\in \\mathbb{R}^{N \\times N}, x\\in \\mathbb{R}^{N}, c\\in \\mathbb{R}^{N} \n",
    "$$"
   ]
  },
  {
   "cell_type": "markdown",
   "metadata": {},
   "source": [
    "$$\n",
    "y = x^TAc = \\begin{bmatrix}\n",
    "x_{1} & ... & x_{n}\n",
    "\\end{bmatrix} \n",
    "\\begin{bmatrix}\n",
    "a_{11} & ... & a_{1n}\\\\ \n",
    ".\\\\\n",
    ".\\\\\n",
    ".\\\\\n",
    "a_{n1} & ...& a_{nn}\n",
    "\\end{bmatrix} \n",
    "\\begin{bmatrix}\n",
    "c_{1} \\\\ \n",
    ".\\\\\n",
    ".\\\\\n",
    ".\\\\\n",
    "c_{n}\n",
    "\\end{bmatrix} = \n",
    "\\begin{bmatrix}\n",
    "x_{1} a_{11} + ... + x_{n} a_{n1} & ... & x_{1} a_{1n}... + x_{n} a_{nn}\n",
    "\\end{bmatrix}\\begin{bmatrix}\n",
    "c_{1} \\\\ \n",
    ".\\\\\n",
    ".\\\\\n",
    ".\\\\\n",
    "c_{n}\n",
    "\\end{bmatrix} = c_{1}x_{1} a_{11} + ...  +c_{n} x_{n} a_{nn} =\n",
    "$$"
   ]
  },
  {
   "cell_type": "markdown",
   "metadata": {},
   "source": [
    "$$\n",
    "\\frac{dy}{dA} = \\begin{bmatrix}\n",
    "c_{1}x_{1} & ... & c_{1}x_{n}\\\\ \n",
    ".\\\\\n",
    ".\\\\\n",
    ".\\\\\n",
    "c_{n}x_{1} & ... & c_{n}x_{n}\n",
    "\\end{bmatrix} \n",
    "$$"
   ]
  },
  {
   "cell_type": "markdown",
   "metadata": {},
   "source": [
    "## ex. 4"
   ]
  },
  {
   "cell_type": "markdown",
   "metadata": {},
   "source": [
    "Classic matrix factorization example. Given matrix $X$ you need to find $A$, $S$ to approximate $X$. This can be done by simple gradient descent iteratively alternating $A$ and $S$ updates.\n",
    "$$\n",
    "J = || X - AS ||_2^2  , \\quad A\\in \\mathbb{R}^{N \\times R} , \\quad S\\in \\mathbb{R}^{R \\times M}\n",
    "$$"
   ]
  },
  {
   "cell_type": "markdown",
   "metadata": {},
   "source": [
    "$$\n",
    "\\frac{dJ}{dS} = \\frac{\\partial tr ((X - AS)(X - AS)^T)}{\\partial S} = \\frac{\\partial tr ((X - AS)(X - AS)^T)}{\\partial (X - AS)} \\cdot \\frac{\\partial (X - AS)}{\\partial S}\n",
    "$$"
   ]
  },
  {
   "cell_type": "markdown",
   "metadata": {},
   "source": [
    "### First approach\n",
    "Using ex.2 and the fact:\n",
    "$$\n",
    "|| X ||_2^2 = tr(XX^T) \n",
    "$$ \n",
    "it is easy to derive gradients (you can find it in one of the refs). "
   ]
  },
  {
   "cell_type": "markdown",
   "metadata": {},
   "source": [
    "### Second approach\n",
    "And finally we can use chain rule! **YOUR TURN** to do it.\n",
    "let $ F = AS $ \n",
    "\n",
    "**Find**"
   ]
  },
  {
   "cell_type": "markdown",
   "metadata": {},
   "source": [
    "$$\n",
    "\\frac{dJ}{dF} = ?\n",
    "$$ "
   ]
  },
  {
   "cell_type": "markdown",
   "metadata": {},
   "source": [
    "and \n",
    "$$\n",
    "\\frac{dF}{dS} = ?\n",
    "$$ \n",
    "(the shape should be $ NM \\times RM )$."
   ]
  },
  {
   "cell_type": "markdown",
   "metadata": {},
   "source": [
    "Now it is easy do get desired gradients:\n",
    "$$\n",
    "\\frac{dJ}{dS} = ?\n",
    "$$ "
   ]
  }
 ],
 "metadata": {
  "kernelspec": {
   "display_name": "Python 3",
   "language": "python",
   "name": "python3"
  },
  "language_info": {
   "codemirror_mode": {
    "name": "ipython",
    "version": 3
   },
   "file_extension": ".py",
   "mimetype": "text/x-python",
   "name": "python",
   "nbconvert_exporter": "python",
   "pygments_lexer": "ipython3",
   "version": "3.8.5"
  }
 },
 "nbformat": 4,
 "nbformat_minor": 4
}
